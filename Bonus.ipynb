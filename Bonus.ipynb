{
 "cells": [
  {
   "cell_type": "code",
   "execution_count": null,
   "metadata": {},
   "outputs": [],
   "source": [
    "# As you examine the data, you are overcome with a creeping suspicion that the dataset is fake. \n",
    "# You surmise that your boss handed you spurious data in order to test the data engineering skills of a new employee. \n",
    "# To confirm your hunch, you decide to take the following steps to generate a visualization of the data, \n",
    "# with which you will confront your boss:\n",
    "\n",
    "\n",
    "# Import the SQL database into Pandas. (Yes, you could read the CSVs directly in Pandas, but you are, after all, \n",
    "# trying to prove your technical mettle.) This step may require some research. \n",
    "# Feel free to use the code below to get started. \n",
    "# Be sure to make any necessary modifications for your username, password, host, port, and database name:\n",
    "# from sqlalchemy import create_engine\n",
    "# engine = create_engine('postgresql://localhost:5432/<your_db_name>')\n",
    "# connection = engine.connect()\n",
    "\n",
    "\n",
    "# Consult SQLAlchemy documentation for more information.\n",
    "\n",
    "\n",
    "# If using a password, do not upload your password to your GitHub repository. \n",
    "# See https://www.youtube.com/watch?v=2uaTPmNvH0I and \n",
    "#     https://help.github.com/en/github/using-git/ignoring-files for more information.\n",
    "\n",
    "\n",
    "# Create a histogram to visualize the most common salary ranges for employees.\n",
    "\n",
    "\n",
    "# Create a bar chart of average salary by title."
   ]
  },
  {
   "cell_type": "code",
   "execution_count": null,
   "metadata": {},
   "outputs": [],
   "source": [
    "from sqlalchemy import create_engine\n",
    "engine = create_engine('postgresql://localhost:5432/<your_db_name>')\n",
    "connection = engine.connect()\n"
   ]
  },
  {
   "cell_type": "code",
   "execution_count": null,
   "metadata": {},
   "outputs": [],
   "source": []
  },
  {
   "cell_type": "code",
   "execution_count": null,
   "metadata": {},
   "outputs": [],
   "source": []
  },
  {
   "cell_type": "code",
   "execution_count": null,
   "metadata": {},
   "outputs": [],
   "source": []
  },
  {
   "cell_type": "code",
   "execution_count": null,
   "metadata": {},
   "outputs": [],
   "source": []
  },
  {
   "cell_type": "code",
   "execution_count": null,
   "metadata": {},
   "outputs": [],
   "source": []
  },
  {
   "cell_type": "code",
   "execution_count": null,
   "metadata": {},
   "outputs": [],
   "source": []
  },
  {
   "cell_type": "code",
   "execution_count": null,
   "metadata": {},
   "outputs": [],
   "source": []
  }
 ],
 "metadata": {
  "kernelspec": {
   "display_name": "Python 3",
   "language": "python",
   "name": "python3"
  },
  "language_info": {
   "codemirror_mode": {
    "name": "ipython",
    "version": 3
   },
   "file_extension": ".py",
   "mimetype": "text/x-python",
   "name": "python",
   "nbconvert_exporter": "python",
   "pygments_lexer": "ipython3",
   "version": "3.8.3"
  }
 },
 "nbformat": 4,
 "nbformat_minor": 4
}
